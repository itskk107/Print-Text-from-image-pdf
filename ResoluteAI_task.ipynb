{
 "cells": [
  {
   "cell_type": "code",
   "execution_count": 1,
   "id": "f82707aa",
   "metadata": {},
   "outputs": [],
   "source": [
    "#!pip install opencv-python-headless"
   ]
  },
  {
   "cell_type": "code",
   "execution_count": 2,
   "id": "30a78bca",
   "metadata": {
    "scrolled": true
   },
   "outputs": [],
   "source": [
    "#!pip install tesseract"
   ]
  },
  {
   "cell_type": "code",
   "execution_count": 3,
   "id": "060ced81",
   "metadata": {},
   "outputs": [],
   "source": [
    "import cv2\n",
    "import pytesseract"
   ]
  },
  {
   "cell_type": "code",
   "execution_count": 4,
   "id": "ea4423ad",
   "metadata": {},
   "outputs": [],
   "source": [
    "# Replace 'your_image.jpg' with the path to your image file\n",
    "image = cv2.imread('C:/Users/hp.pc/Downloads/1.jpg')"
   ]
  },
  {
   "cell_type": "code",
   "execution_count": 5,
   "id": "c5942996",
   "metadata": {},
   "outputs": [],
   "source": [
    "gray_image = cv2.cvtColor(image,cv2.COLOR_BGR2GRAY)"
   ]
  },
  {
   "cell_type": "code",
   "execution_count": 6,
   "id": "876bbc67",
   "metadata": {},
   "outputs": [],
   "source": [
    "# Resize the image to a specific width (e.g., 800 pixels)\n",
    "width = 800\n",
    "height = int((image.shape[0] / image.shape[1]) * width)\n",
    "resized_image = cv2.resize(gray_image, (width, height))"
   ]
  },
  {
   "cell_type": "code",
   "execution_count": 7,
   "id": "3045b7be",
   "metadata": {},
   "outputs": [],
   "source": [
    "# Set the path to your Tesseract executable (you may need to adjust this)\n",
    "pytesseract.pytesseract.tesseract_cmd = r'C:\\Program Files\\Tesseract-OCR\\tesseract.exe'\n",
    "\n",
    "# Perform OCR on the resized and pre-processed image\n",
    "text = pytesseract.image_to_string(resized_image)"
   ]
  },
  {
   "cell_type": "code",
   "execution_count": 8,
   "id": "48213cd0",
   "metadata": {},
   "outputs": [
    {
     "name": "stdout",
     "output_type": "stream",
     "text": [
      "Satisfied conveying an dependent contented he gentleman agreeable do be. Warrant\n",
      "private blushes removed an in equally totally if, Delivered dejection necessary\n",
      "objection do mr prevailed. Mr feeling do chiefly cordial in do. Hater timed folly\n",
      "right aware if oh truth. Imprudence attachment him his for sympathize. Large above\n",
      "be to means. Dashwood do provided stronger is. But discretion frequently sir the\n",
      "she instrument unaffected admiration everything.\n",
      "\n",
      "Her extensive perceived may any sincerity extremity. Indeed add rather may pretty\n",
      "see. Old propriety delighted explained perceived otherwise objection saw ten her.\n",
      "Doubt merit sir the right these alone keeps. By sometimes intention smallness he\n",
      "northward. Consisted we otherwise arranging commanded discovery it explained.\n",
      "Does cold even song like two yet been. Literature interested announcing for\n",
      "terminated him inguietude day shy. Himself he fertile chicken perhaps waiting if\n",
      "highest no it, Continued promotion has consulted fat improving not way.\n",
      "\n",
      "Far quitting dwelling graceful the likewise received building. fin fact so to that\n",
      "show am shed sold cold, Unaffected remarkably get yet introduced excellence\n",
      "terminated led. Result either design san she esteem and. On ashamed no inhabit\n",
      "ferrars it ye besides resolve, Own judgment directly few trifling. Elderly az\n",
      "pursuit at regular do parlors. Rank what has into fond she.\n",
      "\n",
      "Of friendship on inhabiting diminution discovered as. Bid friendly eat breeding\n",
      "building fen nor. Object he barton no effect played valley afford. Period so to\n",
      "oppose we little seeing or branch. Announcing contrasted not imprudence add\n",
      "frequently you possession mrs. Period saw his houses square and misery. Hour had\n",
      "held lain give yet.\n",
      "\n",
      "\n"
     ]
    }
   ],
   "source": [
    "print(text)"
   ]
  },
  {
   "cell_type": "code",
   "execution_count": null,
   "id": "a7d3c5b6",
   "metadata": {},
   "outputs": [],
   "source": []
  },
  {
   "cell_type": "code",
   "execution_count": null,
   "id": "860d6272",
   "metadata": {},
   "outputs": [],
   "source": []
  }
 ],
 "metadata": {
  "kernelspec": {
   "display_name": "Python 3 (ipykernel)",
   "language": "python",
   "name": "python3"
  },
  "language_info": {
   "codemirror_mode": {
    "name": "ipython",
    "version": 3
   },
   "file_extension": ".py",
   "mimetype": "text/x-python",
   "name": "python",
   "nbconvert_exporter": "python",
   "pygments_lexer": "ipython3",
   "version": "3.11.4"
  }
 },
 "nbformat": 4,
 "nbformat_minor": 5
}
